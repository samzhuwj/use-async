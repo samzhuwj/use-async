{
 "cells": [
  {
   "cell_type": "code",
   "execution_count": 12,
   "metadata": {},
   "outputs": [],
   "source": [
    "import asyncio\n",
    " \n",
    "@asyncio.coroutine\n",
    "def my_coro():\n",
    "    yield from func()"
   ]
  },
  {
   "cell_type": "code",
   "execution_count": 13,
   "metadata": {},
   "outputs": [],
   "source": [
    "import asyncio\n",
    " \n",
    "async def my_coro():\n",
    "    await func()"
   ]
  },
  {
   "cell_type": "code",
   "execution_count": null,
   "metadata": {},
   "outputs": [],
   "source": [
    "import asyncio\n",
    "import os\n",
    "import urllib.request\n",
    " \n",
    "async def download_coroutine(url):\n",
    "    request = urllib.request.urlopen(url)\n",
    "    filename = os.path.basename(url)\n",
    " \n",
    "    with open(filename, 'wb') as file_handle:\n",
    "        while True:\n",
    "            chunk = request.read(1024)\n",
    "            if not chunk:\n",
    "                break\n",
    "            file_handle.write(chunk)\n",
    "    msg = 'Finished downloading {filename}'.format(filename=filename)\n",
    "    return msg\n",
    " \n",
    "async def main(urls):\n",
    "    coroutines = [download_coroutine(url) for url in urls]\n",
    "    completed, pending = await asyncio.wait(coroutines)\n",
    "    for item in completed:\n",
    "        print(item.result())\n",
    " \n",
    " \n",
    "if __name__ == '__main__':\n",
    "    urls = [\"http://www.irs.gov/pub/irs-pdf/f1040.pdf\",\n",
    "            \"http://www.irs.gov/pub/irs-pdf/f1040a.pdf\",\n",
    "            \"http://www.irs.gov/pub/irs-pdf/f1040ez.pdf\",\n",
    "            \"http://www.irs.gov/pub/irs-pdf/f1040es.pdf\",\n",
    "            \"http://www.irs.gov/pub/irs-pdf/f1040sb.pdf\"]\n",
    " \n",
    "    event_loop = asyncio.new_event_loop()\n",
    "    try:\n",
    "        event_loop.run_until_complete(main(urls))\n",
    "    finally:\n",
    "        event_loop.close()"
   ]
  },
  {
   "cell_type": "code",
   "execution_count": null,
   "metadata": {},
   "outputs": [],
   "source": [
    "import aiohttp\n",
    "import asyncio\n",
    "import async_timeout\n",
    "import os\n",
    " \n",
    " \n",
    "async def download_coroutine(session, url):\n",
    "    with async_timeout.timeout(10):\n",
    "        async with session.get(url) as response:\n",
    "            filename = os.path.basename(url)\n",
    "            with open(filename, 'wb') as f_handle:\n",
    "                while True:\n",
    "                    chunk = await response.content.read(1024)\n",
    "                    if not chunk:\n",
    "                        break\n",
    "                    f_handle.write(chunk)\n",
    "            return await response.release()\n",
    " \n",
    " \n",
    "async def main(loop):\n",
    "    urls = [\"http://www.irs.gov/pub/irs-pdf/f1040.pdf\",\n",
    "        \"http://www.irs.gov/pub/irs-pdf/f1040a.pdf\",\n",
    "        \"http://www.irs.gov/pub/irs-pdf/f1040ez.pdf\",\n",
    "        \"http://www.irs.gov/pub/irs-pdf/f1040es.pdf\",\n",
    "        \"http://www.irs.gov/pub/irs-pdf/f1040sb.pdf\"]\n",
    " \n",
    "    async with aiohttp.ClientSession(loop=loop) as session:\n",
    "        tasks = [download_coroutine(session, url) for url in urls]\n",
    "        await asyncio.gather(*tasks)\n",
    " \n",
    " \n",
    "if __name__ == '__main__':\n",
    "    loop = asyncio.new_event_loop()\n",
    "    loop.run_until_complete(main(loop))"
   ]
  },
  {
   "cell_type": "code",
   "execution_count": 14,
   "metadata": {},
   "outputs": [
    {
     "name": "stdout",
     "output_type": "stream",
     "text": [
      "starting event loop\n",
      "Event handler called\n",
      "Event handler called\n",
      "stopping the loop\n",
      "closing event loop\n"
     ]
    }
   ],
   "source": [
    "import asyncio\n",
    "import functools\n",
    " \n",
    " \n",
    "def event_handler(loop, stop=False):\n",
    "    print('Event handler called')\n",
    "    if stop:\n",
    "        print('stopping the loop')\n",
    "        loop.stop()\n",
    " \n",
    " \n",
    "if __name__ == '__main__':\n",
    "    loop = asyncio.new_event_loop()\n",
    "    try:\n",
    "        loop.call_soon(functools.partial(event_handler, loop))\n",
    "        print('starting event loop')\n",
    "        loop.call_soon(functools.partial(event_handler, loop, stop=True))\n",
    " \n",
    "        loop.run_forever()\n",
    "    finally:\n",
    "        print('closing event loop')\n",
    "        loop.close()"
   ]
  },
  {
   "cell_type": "code",
   "execution_count": 15,
   "metadata": {},
   "outputs": [
    {
     "name": "stdout",
     "output_type": "stream",
     "text": [
      "task creation started\n",
      "This task is taking 2 seconds to complete\n",
      "The task's result was: task finished\n"
     ]
    }
   ],
   "source": [
    "import asyncio\n",
    " \n",
    " \n",
    "async def my_task(seconds):\n",
    "    print('This task is taking {} seconds to complete'.format(\n",
    "        seconds))\n",
    "    await asyncio.sleep(seconds)\n",
    "    return 'task finished'\n",
    " \n",
    " \n",
    "if __name__ == '__main__':\n",
    "    my_event_loop = asyncio.new_event_loop()\n",
    "    try:\n",
    "        print('task creation started')\n",
    "        task_obj = my_event_loop.create_task(my_task(seconds=2))\n",
    "        my_event_loop.run_until_complete(task_obj)\n",
    "    finally:\n",
    "        my_event_loop.close()\n",
    " \n",
    "    print(\"The task's result was: {}\".format(task_obj.result()))"
   ]
  },
  {
   "cell_type": "code",
   "execution_count": null,
   "metadata": {},
   "outputs": [],
   "source": []
  }
 ],
 "metadata": {
  "kernelspec": {
   "display_name": "Python 3",
   "language": "python",
   "name": "python3"
  },
  "language_info": {
   "codemirror_mode": {
    "name": "ipython",
    "version": 3
   },
   "file_extension": ".py",
   "mimetype": "text/x-python",
   "name": "python",
   "nbconvert_exporter": "python",
   "pygments_lexer": "ipython3",
   "version": "3.6.4"
  }
 },
 "nbformat": 4,
 "nbformat_minor": 2
}
